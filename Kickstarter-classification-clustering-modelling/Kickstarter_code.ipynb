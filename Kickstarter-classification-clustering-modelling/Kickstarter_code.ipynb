{
 "cells": [
  {
   "cell_type": "code",
   "execution_count": 52,
   "id": "bc422c2c",
   "metadata": {},
   "outputs": [],
   "source": [
    "# import packages -------------------------------------------------------------\n",
    "import pandas as pd\n",
    "from sklearn.linear_model import Lasso\n",
    "from sklearn.model_selection import train_test_split\n",
    "from sklearn.metrics import mean_squared_error\n",
    "from sklearn.ensemble import RandomForestClassifier\n",
    "from sklearn.metrics import accuracy_score\n",
    "from sklearn.preprocessing import StandardScaler\n",
    "from sklearn.neighbors import KNeighborsClassifier\n",
    "from sklearn.ensemble import RandomForestClassifier\n",
    "from sklearn.ensemble import GradientBoostingClassifier\n",
    "from sklearn.preprocessing import StandardScaler"
   ]
  },
  {
   "cell_type": "code",
   "execution_count": 53,
   "id": "fb1d866e",
   "metadata": {},
   "outputs": [],
   "source": [
    "df = pd.read_excel(\"C:/Users/admin/Desktop/Kickstarter.xlsx\")"
   ]
  },
  {
   "cell_type": "markdown",
   "id": "41201014",
   "metadata": {},
   "source": [
    "## Part 1: Classification Model"
   ]
  },
  {
   "cell_type": "markdown",
   "id": "1172ee40",
   "metadata": {},
   "source": [
    "A classification model to predict whether the variable “state” will take the value “successful” or “failure.”"
   ]
  },
  {
   "cell_type": "markdown",
   "id": "16b5abdb",
   "metadata": {},
   "source": [
    "### Data Cleaning"
   ]
  },
  {
   "cell_type": "code",
   "execution_count": 54,
   "id": "7c487a75",
   "metadata": {},
   "outputs": [],
   "source": [
    "# keep only successful/fail states\n",
    "df = df.drop(df[df[\"state\"]==\"live\"].index)\n",
    "df = df.drop(df[df[\"state\"]==\"canceled\"].index)\n",
    "df = df.drop(df[df[\"state\"]==\"suspended\"].index)"
   ]
  },
  {
   "cell_type": "code",
   "execution_count": 55,
   "id": "33039506",
   "metadata": {},
   "outputs": [],
   "source": [
    "# Numerify the target variable to prepare for feature selection\n",
    "df.loc[df.state == 'failed', 'state'] = 0\n",
    "df.loc[df.state == 'successful', 'state'] = 1\n",
    "\n",
    "# column to_numeric\n",
    "df[\"state\"] = pd.to_numeric(df[\"state\"], downcast=\"integer\")\n",
    "\n",
    "# Numerify the boolean variables\n",
    "df.loc[df.staff_pick == False, 'staff_pick'] = 0\n",
    "df.loc[df.staff_pick == True, 'staff_pick'] = 1\n",
    "\n",
    "df.loc[df.spotlight == False, 'spotlight'] = 0\n",
    "df.loc[df.spotlight == True, 'spotlight'] = 1\n",
    "\n",
    "df.loc[df.disable_communication == False, 'disable_communication'] = 0\n",
    "df.loc[df.disable_communication == True, 'disable_communication'] = 1\n",
    "\n",
    "df[\"staff_pick\"] = pd.to_numeric(df[\"staff_pick\"], downcast=\"integer\")\n",
    "df[\"spotlight\"] = pd.to_numeric(df[\"spotlight\"], downcast=\"integer\")\n",
    "df[\"disable_communication\"] = pd.to_numeric(df[\"disable_communication\"], downcast=\"integer\")"
   ]
  },
  {
   "cell_type": "code",
   "execution_count": 56,
   "id": "5350f9c2",
   "metadata": {
    "scrolled": false
   },
   "outputs": [],
   "source": [
    "# pd.set_option(\"display.max_columns\", None)\n",
    "# pd.set_option(\"display.max_rows\", None)\n",
    "# df.corr()\n",
    "\n",
    "# OMG! the correlation between states and spotlight == 1\n",
    "# we'll have to drop spotlight. (in dropping features part)"
   ]
  },
  {
   "cell_type": "code",
   "execution_count": 57,
   "id": "ba4bae48",
   "metadata": {},
   "outputs": [
    {
     "name": "stdout",
     "output_type": "stream",
     "text": [
      "project_id                     float32\n",
      "name                            object\n",
      "goal                           float32\n",
      "pledged                        float32\n",
      "state                             int8\n",
      "disable_communication             int8\n",
      "country                         object\n",
      "currency                        object\n",
      "deadline                        object\n",
      "state_changed_at                object\n",
      "created_at                      object\n",
      "launched_at                     object\n",
      "staff_pick                        int8\n",
      "backers_count                  float32\n",
      "static_usd_rate                float32\n",
      "usd_pledged                    float64\n",
      "category                        object\n",
      "spotlight                         int8\n",
      "name_len                       float32\n",
      "name_len_clean                 float32\n",
      "blurb_len                      float32\n",
      "blurb_len_clean                float32\n",
      "deadline_weekday                object\n",
      "state_changed_at_weekday        object\n",
      "created_at_weekday              object\n",
      "launched_at_weekday             object\n",
      "deadline_month                 float32\n",
      "deadline_day                   float32\n",
      "deadline_yr                    float32\n",
      "deadline_hr                    float32\n",
      "state_changed_at_month         float32\n",
      "state_changed_at_day           float32\n",
      "state_changed_at_yr            float32\n",
      "state_changed_at_hr            float32\n",
      "created_at_month               float32\n",
      "created_at_day                 float32\n",
      "created_at_yr                  float32\n",
      "created_at_hr                  float32\n",
      "launched_at_month              float32\n",
      "launched_at_day                float32\n",
      "launched_at_yr                 float32\n",
      "launched_at_hr                 float32\n",
      "create_to_launch_days          float32\n",
      "launch_to_deadline_days        float32\n",
      "launch_to_state_change_days    float32\n",
      "dtype: object\n"
     ]
    }
   ],
   "source": [
    "# turn string to numerical ————————————————————————————————————\n",
    "listcol = df.columns\n",
    "listcol_ = listcol.to_list()\n",
    "\n",
    "df_num = df\n",
    "index_list_floatify = [0, 2, 3, 12, 13, 14, 18, 19, 20, 21, 26, 27, 28, 29, 30, 31, 32, 33, 34, 35, 36, 37, 38, 39, 40, 41, 42, 43, 44]\n",
    "for i in range(len(index_list_floatify)):\n",
    "    ind = index_list_floatify[i]\n",
    "    col_name = listcol_[ind]\n",
    "    df_num[col_name] = pd.to_numeric(df_num[col_name], downcast=\"float\")\n",
    "\n",
    "print(df_num.dtypes)\n",
    "\n",
    "# we use df_num from now on"
   ]
  },
  {
   "cell_type": "code",
   "execution_count": 58,
   "id": "65df64e1",
   "metadata": {},
   "outputs": [
    {
     "name": "stdout",
     "output_type": "stream",
     "text": [
      "Index(['project_id', 'name', 'goal', 'pledged', 'state',\n",
      "       'disable_communication', 'deadline', 'state_changed_at', 'created_at',\n",
      "       'launched_at',\n",
      "       ...\n",
      "       'created_at_weekday_Thursday', 'created_at_weekday_Tuesday',\n",
      "       'created_at_weekday_Wednesday', 'launched_at_weekday_Friday',\n",
      "       'launched_at_weekday_Monday', 'launched_at_weekday_Saturday',\n",
      "       'launched_at_weekday_Sunday', 'launched_at_weekday_Thursday',\n",
      "       'launched_at_weekday_Tuesday', 'launched_at_weekday_Wednesday'],\n",
      "      dtype='object', length=123)\n"
     ]
    }
   ],
   "source": [
    "# Dummify ————————————————————————————————————\n",
    "index_list_dummify = [6, 7, 16, 22, 23, 24, 25]\n",
    "\n",
    "df_d = df_num\n",
    "\n",
    "col_name_dummify = []\n",
    "for j in range(len(index_list_dummify)):\n",
    "    ind = index_list_dummify[j]\n",
    "    col_name = listcol_[ind]\n",
    "    col_name_dummify.append(col_name)\n",
    "df_d = pd.get_dummies(df_num, columns=col_name_dummify)\n",
    "\n",
    "print(df_d.columns)\n",
    "\n",
    "# we use df_d from now on"
   ]
  },
  {
   "cell_type": "code",
   "execution_count": 60,
   "id": "c63102b6",
   "metadata": {},
   "outputs": [
    {
     "name": "stdout",
     "output_type": "stream",
     "text": [
      "Index(['goal', 'state', 'disable_communication', 'name_len_clean',\n",
      "       'blurb_len_clean', 'deadline_month', 'deadline_day', 'deadline_yr',\n",
      "       'deadline_hr', 'state_changed_at_month',\n",
      "       ...\n",
      "       'created_at_weekday_Thursday', 'created_at_weekday_Tuesday',\n",
      "       'created_at_weekday_Wednesday', 'launched_at_weekday_Friday',\n",
      "       'launched_at_weekday_Monday', 'launched_at_weekday_Saturday',\n",
      "       'launched_at_weekday_Sunday', 'launched_at_weekday_Thursday',\n",
      "       'launched_at_weekday_Tuesday', 'launched_at_weekday_Wednesday'],\n",
      "      dtype='object', length=108)\n",
      "removed 0 rows by dropping NA rows.\n"
     ]
    }
   ],
   "source": [
    "# Drop columns & drop na ————————————————————————————————————\n",
    "df_drop = df_d\n",
    "\n",
    "# name and project id are irrelevant\n",
    "df_drop = df_drop.drop(columns = [\"name\",\"project_id\"])\n",
    "\n",
    "# drop spotlight\n",
    "df_drop = df_drop.drop(columns = \"spotlight\")\n",
    "\n",
    "# Because the classification task has to be done when the project is submitted, we'll need to drop some features\n",
    "# that can only be collected when the project is done or has been launched for a while\n",
    "df_drop = df_drop.drop(columns = [\"pledged\",\"staff_pick\",\"backers_count\",\"static_usd_rate\",\"usd_pledged\"])\n",
    "\n",
    "# timestamps is shown in following columns, can be removed\n",
    "# launch_to_state_change_days has to be removed, because it contains too many NA\n",
    "df_drop = df_drop.drop(columns = [\"launch_to_state_change_days\",\"deadline\",\"state_changed_at\",\"created_at\",\"launched_at\"])\n",
    "df_drop = df_drop.drop(columns = [\"name_len\",\"blurb_len\"])\n",
    "\n",
    "# drop NA rows\n",
    "df_drop = df_drop.dropna()\n",
    "\n",
    "print(df_drop.columns)\n",
    "print(\"removed\", str(len(df_d)-len(df_drop)),\"rows by dropping NA rows.\")\n",
    "\n",
    "# we use df_drop from now on"
   ]
  },
  {
   "cell_type": "markdown",
   "id": "de712395",
   "metadata": {},
   "source": [
    "### Feature selection"
   ]
  },
  {
   "cell_type": "code",
   "execution_count": 61,
   "id": "27488ac3",
   "metadata": {},
   "outputs": [
    {
     "name": "stdout",
     "output_type": "stream",
     "text": [
      "                  predictor  feature importance\n",
      "0                      goal            0.088978\n",
      "20    create_to_launch_days            0.053669\n",
      "2            name_len_clean            0.043223\n",
      "19           launched_at_hr            0.038082\n",
      "13           created_at_day            0.037606\n",
      "77             category_Web            0.036673\n",
      "15            created_at_hr            0.036577\n",
      "17          launched_at_day            0.036504\n",
      "21  launch_to_deadline_days            0.036486\n",
      "9      state_changed_at_day            0.034348\n"
     ]
    }
   ],
   "source": [
    "# Feature selection\n",
    "df_f = df_drop\n",
    "\n",
    "X = df_f.drop(columns=[\"state\"])\n",
    "y = df_f[\"state\"]\n",
    "\n",
    "rf = RandomForestClassifier(random_state = 0)\n",
    "model = rf.fit(X,y)\n",
    "model.feature_importances_\n",
    "importance = pd.DataFrame(list(zip(X.columns,model.feature_importances_)),columns=['predictor','feature importance'])\n",
    "print(importance.sort_values(by=['feature importance'],ascending = False).head(10))"
   ]
  },
  {
   "cell_type": "markdown",
   "id": "55894b90",
   "metadata": {},
   "source": [
    "### Model Selection & Comparison based on accuracy scores"
   ]
  },
  {
   "cell_type": "code",
   "execution_count": 74,
   "id": "f99afd5d",
   "metadata": {},
   "outputs": [],
   "source": [
    "# Form up predictors as suggested by feature selection with importance threshold=0.35\n",
    "X1 = df_f[['goal', 'create_to_launch_days','name_len_clean',\\\n",
    "           'launched_at_hr','created_at_day','category_Web','created_at_hr','launch_to_deadline_days']]\n",
    "y1 = df_f[[\"state\"]]\n",
    "\n",
    "# split testing and training dataset\n",
    "X_train1,X_test1,y_train1,y_test1 = train_test_split(X1, y1, test_size=0.30, random_state=0)"
   ]
  },
  {
   "cell_type": "code",
   "execution_count": 73,
   "id": "8c6547da",
   "metadata": {},
   "outputs": [
    {
     "name": "stderr",
     "output_type": "stream",
     "text": [
      "<ipython-input-73-7da492f9a760>:12: DataConversionWarning: A column-vector y was passed when a 1d array was expected. Please change the shape of y to (n_samples,), for example using ravel().\n",
      "  model_rf = randomforest.fit(X_train1, y_train1)\n"
     ]
    },
    {
     "name": "stdout",
     "output_type": "stream",
     "text": [
      "Accuracy score of random forest algorithmn: 0.7088822779430515\n"
     ]
    }
   ],
   "source": [
    "# # 1. RANDOM FOREST ___________________________________________________________________________________________________\n",
    "# randomforest = RandomForestClassifier()\n",
    "# model_rf = randomforest.fit(X_train1, y_train1)\n",
    "# y_test_pred_rf = model_rf.predict(X_test1)\n",
    "# acc_rf = accuracy_score(y_test1, y_test_pred_rf)\n",
    "# print(\"Accuracy score of random forest algorithmn:\", acc_rf)\n",
    "\n",
    "# # Accuracy score = 0.7088822779430515"
   ]
  },
  {
   "cell_type": "code",
   "execution_count": 76,
   "id": "8fe9fbe5",
   "metadata": {},
   "outputs": [
    {
     "name": "stderr",
     "output_type": "stream",
     "text": [
      "C:\\ProgramData\\Anaconda3\\lib\\site-packages\\sklearn\\neighbors\\_classification.py:179: DataConversionWarning: A column-vector y was passed when a 1d array was expected. Please change the shape of y to (n_samples,), for example using ravel().\n",
      "  return self._fit(X, y)\n",
      "C:\\ProgramData\\Anaconda3\\lib\\site-packages\\sklearn\\neighbors\\_classification.py:179: DataConversionWarning: A column-vector y was passed when a 1d array was expected. Please change the shape of y to (n_samples,), for example using ravel().\n",
      "  return self._fit(X, y)\n",
      "C:\\ProgramData\\Anaconda3\\lib\\site-packages\\sklearn\\neighbors\\_classification.py:179: DataConversionWarning: A column-vector y was passed when a 1d array was expected. Please change the shape of y to (n_samples,), for example using ravel().\n",
      "  return self._fit(X, y)\n",
      "C:\\ProgramData\\Anaconda3\\lib\\site-packages\\sklearn\\neighbors\\_classification.py:179: DataConversionWarning: A column-vector y was passed when a 1d array was expected. Please change the shape of y to (n_samples,), for example using ravel().\n",
      "  return self._fit(X, y)\n",
      "C:\\ProgramData\\Anaconda3\\lib\\site-packages\\sklearn\\neighbors\\_classification.py:179: DataConversionWarning: A column-vector y was passed when a 1d array was expected. Please change the shape of y to (n_samples,), for example using ravel().\n",
      "  return self._fit(X, y)\n",
      "C:\\ProgramData\\Anaconda3\\lib\\site-packages\\sklearn\\neighbors\\_classification.py:179: DataConversionWarning: A column-vector y was passed when a 1d array was expected. Please change the shape of y to (n_samples,), for example using ravel().\n",
      "  return self._fit(X, y)\n",
      "C:\\ProgramData\\Anaconda3\\lib\\site-packages\\sklearn\\neighbors\\_classification.py:179: DataConversionWarning: A column-vector y was passed when a 1d array was expected. Please change the shape of y to (n_samples,), for example using ravel().\n",
      "  return self._fit(X, y)\n",
      "C:\\ProgramData\\Anaconda3\\lib\\site-packages\\sklearn\\neighbors\\_classification.py:179: DataConversionWarning: A column-vector y was passed when a 1d array was expected. Please change the shape of y to (n_samples,), for example using ravel().\n",
      "  return self._fit(X, y)\n",
      "C:\\ProgramData\\Anaconda3\\lib\\site-packages\\sklearn\\neighbors\\_classification.py:179: DataConversionWarning: A column-vector y was passed when a 1d array was expected. Please change the shape of y to (n_samples,), for example using ravel().\n",
      "  return self._fit(X, y)\n",
      "C:\\ProgramData\\Anaconda3\\lib\\site-packages\\sklearn\\neighbors\\_classification.py:179: DataConversionWarning: A column-vector y was passed when a 1d array was expected. Please change the shape of y to (n_samples,), for example using ravel().\n",
      "  return self._fit(X, y)\n",
      "C:\\ProgramData\\Anaconda3\\lib\\site-packages\\sklearn\\neighbors\\_classification.py:179: DataConversionWarning: A column-vector y was passed when a 1d array was expected. Please change the shape of y to (n_samples,), for example using ravel().\n",
      "  return self._fit(X, y)\n",
      "C:\\ProgramData\\Anaconda3\\lib\\site-packages\\sklearn\\neighbors\\_classification.py:179: DataConversionWarning: A column-vector y was passed when a 1d array was expected. Please change the shape of y to (n_samples,), for example using ravel().\n",
      "  return self._fit(X, y)\n",
      "C:\\ProgramData\\Anaconda3\\lib\\site-packages\\sklearn\\neighbors\\_classification.py:179: DataConversionWarning: A column-vector y was passed when a 1d array was expected. Please change the shape of y to (n_samples,), for example using ravel().\n",
      "  return self._fit(X, y)\n",
      "C:\\ProgramData\\Anaconda3\\lib\\site-packages\\sklearn\\neighbors\\_classification.py:179: DataConversionWarning: A column-vector y was passed when a 1d array was expected. Please change the shape of y to (n_samples,), for example using ravel().\n",
      "  return self._fit(X, y)\n",
      "C:\\ProgramData\\Anaconda3\\lib\\site-packages\\sklearn\\neighbors\\_classification.py:179: DataConversionWarning: A column-vector y was passed when a 1d array was expected. Please change the shape of y to (n_samples,), for example using ravel().\n",
      "  return self._fit(X, y)\n",
      "C:\\ProgramData\\Anaconda3\\lib\\site-packages\\sklearn\\neighbors\\_classification.py:179: DataConversionWarning: A column-vector y was passed when a 1d array was expected. Please change the shape of y to (n_samples,), for example using ravel().\n",
      "  return self._fit(X, y)\n",
      "C:\\ProgramData\\Anaconda3\\lib\\site-packages\\sklearn\\neighbors\\_classification.py:179: DataConversionWarning: A column-vector y was passed when a 1d array was expected. Please change the shape of y to (n_samples,), for example using ravel().\n",
      "  return self._fit(X, y)\n",
      "C:\\ProgramData\\Anaconda3\\lib\\site-packages\\sklearn\\neighbors\\_classification.py:179: DataConversionWarning: A column-vector y was passed when a 1d array was expected. Please change the shape of y to (n_samples,), for example using ravel().\n",
      "  return self._fit(X, y)\n",
      "C:\\ProgramData\\Anaconda3\\lib\\site-packages\\sklearn\\neighbors\\_classification.py:179: DataConversionWarning: A column-vector y was passed when a 1d array was expected. Please change the shape of y to (n_samples,), for example using ravel().\n",
      "  return self._fit(X, y)\n",
      "C:\\ProgramData\\Anaconda3\\lib\\site-packages\\sklearn\\neighbors\\_classification.py:179: DataConversionWarning: A column-vector y was passed when a 1d array was expected. Please change the shape of y to (n_samples,), for example using ravel().\n",
      "  return self._fit(X, y)\n",
      "C:\\ProgramData\\Anaconda3\\lib\\site-packages\\sklearn\\neighbors\\_classification.py:179: DataConversionWarning: A column-vector y was passed when a 1d array was expected. Please change the shape of y to (n_samples,), for example using ravel().\n",
      "  return self._fit(X, y)\n",
      "C:\\ProgramData\\Anaconda3\\lib\\site-packages\\sklearn\\neighbors\\_classification.py:179: DataConversionWarning: A column-vector y was passed when a 1d array was expected. Please change the shape of y to (n_samples,), for example using ravel().\n",
      "  return self._fit(X, y)\n",
      "C:\\ProgramData\\Anaconda3\\lib\\site-packages\\sklearn\\neighbors\\_classification.py:179: DataConversionWarning: A column-vector y was passed when a 1d array was expected. Please change the shape of y to (n_samples,), for example using ravel().\n",
      "  return self._fit(X, y)\n",
      "C:\\ProgramData\\Anaconda3\\lib\\site-packages\\sklearn\\neighbors\\_classification.py:179: DataConversionWarning: A column-vector y was passed when a 1d array was expected. Please change the shape of y to (n_samples,), for example using ravel().\n",
      "  return self._fit(X, y)\n",
      "C:\\ProgramData\\Anaconda3\\lib\\site-packages\\sklearn\\neighbors\\_classification.py:179: DataConversionWarning: A column-vector y was passed when a 1d array was expected. Please change the shape of y to (n_samples,), for example using ravel().\n",
      "  return self._fit(X, y)\n",
      "C:\\ProgramData\\Anaconda3\\lib\\site-packages\\sklearn\\neighbors\\_classification.py:179: DataConversionWarning: A column-vector y was passed when a 1d array was expected. Please change the shape of y to (n_samples,), for example using ravel().\n",
      "  return self._fit(X, y)\n",
      "C:\\ProgramData\\Anaconda3\\lib\\site-packages\\sklearn\\neighbors\\_classification.py:179: DataConversionWarning: A column-vector y was passed when a 1d array was expected. Please change the shape of y to (n_samples,), for example using ravel().\n",
      "  return self._fit(X, y)\n",
      "C:\\ProgramData\\Anaconda3\\lib\\site-packages\\sklearn\\neighbors\\_classification.py:179: DataConversionWarning: A column-vector y was passed when a 1d array was expected. Please change the shape of y to (n_samples,), for example using ravel().\n",
      "  return self._fit(X, y)\n",
      "C:\\ProgramData\\Anaconda3\\lib\\site-packages\\sklearn\\neighbors\\_classification.py:179: DataConversionWarning: A column-vector y was passed when a 1d array was expected. Please change the shape of y to (n_samples,), for example using ravel().\n",
      "  return self._fit(X, y)\n",
      "C:\\ProgramData\\Anaconda3\\lib\\site-packages\\sklearn\\neighbors\\_classification.py:179: DataConversionWarning: A column-vector y was passed when a 1d array was expected. Please change the shape of y to (n_samples,), for example using ravel().\n",
      "  return self._fit(X, y)\n",
      "C:\\ProgramData\\Anaconda3\\lib\\site-packages\\sklearn\\neighbors\\_classification.py:179: DataConversionWarning: A column-vector y was passed when a 1d array was expected. Please change the shape of y to (n_samples,), for example using ravel().\n",
      "  return self._fit(X, y)\n"
     ]
    },
    {
     "name": "stderr",
     "output_type": "stream",
     "text": [
      "C:\\ProgramData\\Anaconda3\\lib\\site-packages\\sklearn\\neighbors\\_classification.py:179: DataConversionWarning: A column-vector y was passed when a 1d array was expected. Please change the shape of y to (n_samples,), for example using ravel().\n",
      "  return self._fit(X, y)\n",
      "C:\\ProgramData\\Anaconda3\\lib\\site-packages\\sklearn\\neighbors\\_classification.py:179: DataConversionWarning: A column-vector y was passed when a 1d array was expected. Please change the shape of y to (n_samples,), for example using ravel().\n",
      "  return self._fit(X, y)\n",
      "C:\\ProgramData\\Anaconda3\\lib\\site-packages\\sklearn\\neighbors\\_classification.py:179: DataConversionWarning: A column-vector y was passed when a 1d array was expected. Please change the shape of y to (n_samples,), for example using ravel().\n",
      "  return self._fit(X, y)\n",
      "C:\\ProgramData\\Anaconda3\\lib\\site-packages\\sklearn\\neighbors\\_classification.py:179: DataConversionWarning: A column-vector y was passed when a 1d array was expected. Please change the shape of y to (n_samples,), for example using ravel().\n",
      "  return self._fit(X, y)\n",
      "C:\\ProgramData\\Anaconda3\\lib\\site-packages\\sklearn\\neighbors\\_classification.py:179: DataConversionWarning: A column-vector y was passed when a 1d array was expected. Please change the shape of y to (n_samples,), for example using ravel().\n",
      "  return self._fit(X, y)\n",
      "C:\\ProgramData\\Anaconda3\\lib\\site-packages\\sklearn\\neighbors\\_classification.py:179: DataConversionWarning: A column-vector y was passed when a 1d array was expected. Please change the shape of y to (n_samples,), for example using ravel().\n",
      "  return self._fit(X, y)\n",
      "C:\\ProgramData\\Anaconda3\\lib\\site-packages\\sklearn\\neighbors\\_classification.py:179: DataConversionWarning: A column-vector y was passed when a 1d array was expected. Please change the shape of y to (n_samples,), for example using ravel().\n",
      "  return self._fit(X, y)\n",
      "C:\\ProgramData\\Anaconda3\\lib\\site-packages\\sklearn\\neighbors\\_classification.py:179: DataConversionWarning: A column-vector y was passed when a 1d array was expected. Please change the shape of y to (n_samples,), for example using ravel().\n",
      "  return self._fit(X, y)\n",
      "C:\\ProgramData\\Anaconda3\\lib\\site-packages\\sklearn\\neighbors\\_classification.py:179: DataConversionWarning: A column-vector y was passed when a 1d array was expected. Please change the shape of y to (n_samples,), for example using ravel().\n",
      "  return self._fit(X, y)\n",
      "C:\\ProgramData\\Anaconda3\\lib\\site-packages\\sklearn\\neighbors\\_classification.py:179: DataConversionWarning: A column-vector y was passed when a 1d array was expected. Please change the shape of y to (n_samples,), for example using ravel().\n",
      "  return self._fit(X, y)\n",
      "C:\\ProgramData\\Anaconda3\\lib\\site-packages\\sklearn\\neighbors\\_classification.py:179: DataConversionWarning: A column-vector y was passed when a 1d array was expected. Please change the shape of y to (n_samples,), for example using ravel().\n",
      "  return self._fit(X, y)\n",
      "C:\\ProgramData\\Anaconda3\\lib\\site-packages\\sklearn\\neighbors\\_classification.py:179: DataConversionWarning: A column-vector y was passed when a 1d array was expected. Please change the shape of y to (n_samples,), for example using ravel().\n",
      "  return self._fit(X, y)\n",
      "C:\\ProgramData\\Anaconda3\\lib\\site-packages\\sklearn\\neighbors\\_classification.py:179: DataConversionWarning: A column-vector y was passed when a 1d array was expected. Please change the shape of y to (n_samples,), for example using ravel().\n",
      "  return self._fit(X, y)\n",
      "C:\\ProgramData\\Anaconda3\\lib\\site-packages\\sklearn\\neighbors\\_classification.py:179: DataConversionWarning: A column-vector y was passed when a 1d array was expected. Please change the shape of y to (n_samples,), for example using ravel().\n",
      "  return self._fit(X, y)\n",
      "C:\\ProgramData\\Anaconda3\\lib\\site-packages\\sklearn\\neighbors\\_classification.py:179: DataConversionWarning: A column-vector y was passed when a 1d array was expected. Please change the shape of y to (n_samples,), for example using ravel().\n",
      "  return self._fit(X, y)\n",
      "C:\\ProgramData\\Anaconda3\\lib\\site-packages\\sklearn\\neighbors\\_classification.py:179: DataConversionWarning: A column-vector y was passed when a 1d array was expected. Please change the shape of y to (n_samples,), for example using ravel().\n",
      "  return self._fit(X, y)\n",
      "C:\\ProgramData\\Anaconda3\\lib\\site-packages\\sklearn\\neighbors\\_classification.py:179: DataConversionWarning: A column-vector y was passed when a 1d array was expected. Please change the shape of y to (n_samples,), for example using ravel().\n",
      "  return self._fit(X, y)\n",
      "C:\\ProgramData\\Anaconda3\\lib\\site-packages\\sklearn\\neighbors\\_classification.py:179: DataConversionWarning: A column-vector y was passed when a 1d array was expected. Please change the shape of y to (n_samples,), for example using ravel().\n",
      "  return self._fit(X, y)\n"
     ]
    },
    {
     "name": "stdout",
     "output_type": "stream",
     "text": [
      "['k = 1: 0.5888227794305142', 'k = 2: 0.6347216319592011', 'k = 3: 0.611347216319592', 'k = 4: 0.6366340841478964', 'k = 5: 0.6266468338291543', 'k = 6: 0.64598385040374', 'k = 7: 0.6340841478963026', 'k = 8: 0.6485337866553336', 'k = 9: 0.641521461963451', 'k = 10: 0.648108797280068', 'k = 11: 0.6455588610284743', 'k = 12: 0.6474713132171696', 'k = 13: 0.6438589035274118', 'k = 14: 0.6546961325966851', 'k = 15: 0.6476838079048024', 'k = 16: 0.6504462388440289', 'k = 17: 0.6449213769655758', 'k = 18: 0.6495962600934977', 'k = 19: 0.648108797280068', 'k = 20: 0.6500212494687633', 'k = 21: 0.6478963025924351', 'k = 22: 0.6506587335316617', 'k = 23: 0.6500212494687633', 'k = 24: 0.6549086272843179', 'k = 25: 0.6512962175945601', 'k = 26: 0.653633659158521', 'k = 27: 0.6532086697832554', 'k = 28: 0.6557586060348491', 'k = 29: 0.6553336166595836', 'k = 30: 0.6583085422864429', 'k = 31: 0.6557586060348491', 'k = 32: 0.6561835954101147', 'k = 33: 0.6519337016574586', 'k = 34: 0.6551211219719507', 'k = 35: 0.6512962175945601', 'k = 36: 0.6527836804079898', 'k = 37: 0.6529961750956226', 'k = 38: 0.6566085847853803', 'k = 39: 0.6566085847853803', 'k = 40: 0.6572460688482787', 'k = 41: 0.6551211219719507', 'k = 42: 0.6576710582235444', 'k = 43: 0.653633659158521', 'k = 44: 0.655971100722482', 'k = 45: 0.6521461963450914', 'k = 46: 0.655971100722482', 'k = 47: 0.6500212494687633', 'k = 48: 0.653633659158521', 'k = 49: 0.6521461963450914']\n"
     ]
    }
   ],
   "source": [
    "# # 2. K-NN _________________________________________________________________________________________________\n",
    "# # Try K-NN classifier to see if there is model with higher accuracy score.\n",
    "# standardizer = StandardScaler()\n",
    "# X_std = standardizer.fit_transform(X1)\n",
    "\n",
    "# X_train2, X_test2, y_train2, y_test2 = train_test_split(X_std, y1, test_size = 0.3, random_state = 5)\n",
    "\n",
    "# KNN_result = []\n",
    "# for i in range (1,50):\n",
    "#     knn = KNeighborsClassifier(n_neighbors=i)\n",
    "#     model_knn = knn.fit(X_train2,y_train2)\n",
    "#     y_test_pred_knn = model_knn.predict(X_test2)\n",
    "#     string = \"k = \"+str(i)+\": \"+str(accuracy_score(y_test2, y_test_pred_knn))\n",
    "#     KNN_result.append(string)\n",
    "# print(KNN_result)\n",
    "\n",
    "# # KNN performs worse than Random Forest\n",
    "# #___________________________________________________________________________________________________"
   ]
  },
  {
   "cell_type": "code",
   "execution_count": 78,
   "id": "94a4e3ac",
   "metadata": {},
   "outputs": [
    {
     "name": "stderr",
     "output_type": "stream",
     "text": [
      "C:\\ProgramData\\Anaconda3\\lib\\site-packages\\sklearn\\utils\\validation.py:63: DataConversionWarning: A column-vector y was passed when a 1d array was expected. Please change the shape of y to (n_samples, ), for example using ravel().\n",
      "  return f(*args, **kwargs)\n"
     ]
    },
    {
     "name": "stdout",
     "output_type": "stream",
     "text": [
      "Accuracy score of gradient boosting algorithmn: 0.7169570760730982\n"
     ]
    }
   ],
   "source": [
    "# FINAL MODEL (GBT with 4 features) ___________________________________________________________________________________________________\n",
    "# GBT\n",
    "gbt = GradientBoostingClassifier()\n",
    "model_gbt = gbt.fit(X_train1, y_train1)\n",
    "y_test_pred_gbt = model_gbt.predict(X_test1)\n",
    "\n",
    "acc_gbt = accuracy_score(y_test1, y_test_pred_gbt)\n",
    "print(\"Accuracy score of gradient boosting algorithmn:\", acc_gbt)\n",
    "\n",
    "# Accuracy score = 0.7169570760730982"
   ]
  },
  {
   "cell_type": "markdown",
   "id": "244c6432",
   "metadata": {},
   "source": [
    "## Part 2: Clustering model"
   ]
  },
  {
   "cell_type": "markdown",
   "id": "e0431a8e",
   "metadata": {},
   "source": [
    "A clustering model (an unsupervised-learning model) to group similar projects together. "
   ]
  },
  {
   "cell_type": "code",
   "execution_count": 81,
   "id": "4e449bdb",
   "metadata": {},
   "outputs": [],
   "source": [
    "import numpy\n",
    "from sklearn.metrics import silhouette_score\n",
    "from sklearn.cluster import KMeans\n",
    "from sklearn.preprocessing import StandardScaler"
   ]
  },
  {
   "cell_type": "code",
   "execution_count": 82,
   "id": "1f52b31e",
   "metadata": {},
   "outputs": [],
   "source": [
    "df2 = pd.read_excel(\"C:/Users/admin/Desktop/Kickstarter.xlsx\")"
   ]
  },
  {
   "cell_type": "code",
   "execution_count": 83,
   "id": "29c760e8",
   "metadata": {},
   "outputs": [],
   "source": [
    "# DATA CLEANING\n",
    "# keep only successful/fail states\n",
    "df2 = df2.drop(df2[df2[\"state\"]==\"live\"].index)\n",
    "df2 = df2.drop(df2[df2[\"state\"]==\"canceled\"].index)\n",
    "df2 = df2.drop(df2[df2[\"state\"]==\"suspended\"].index)\n",
    "\n",
    "# Numerify the target variable to prepare for feature selection\n",
    "df2.loc[df2.state == 'failed', 'state'] = 0\n",
    "df2.loc[df2.state == 'successful', 'state'] = 1\n",
    "\n",
    "# column to_numeric\n",
    "df2[\"state\"] = pd.to_numeric(df2[\"state\"], downcast=\"integer\")\n",
    "\n",
    "# Numerify the boolean variables\n",
    "df2.loc[df2.staff_pick == False, 'staff_pick'] = 0\n",
    "df2.loc[df2.staff_pick == True, 'staff_pick'] = 1\n",
    "\n",
    "df2.loc[df2.spotlight == False, 'spotlight'] = 0\n",
    "df2.loc[df2.spotlight == True, 'spotlight'] = 1\n",
    "\n",
    "df2.loc[df2.disable_communication == False, 'disable_communication'] = 0\n",
    "df2.loc[df2.disable_communication == True, 'disable_communication'] = 1\n",
    "\n",
    "df2[\"staff_pick\"] = pd.to_numeric(df2[\"staff_pick\"], downcast=\"integer\")\n",
    "df2[\"spotlight\"] = pd.to_numeric(df2[\"spotlight\"], downcast=\"integer\")\n",
    "df2[\"disable_communication\"] = pd.to_numeric(df2[\"disable_communication\"], downcast=\"integer\")\n",
    "\n",
    "# turn string to numerical\n",
    "listcol2 = df2.columns\n",
    "listcol2_ = listcol2.to_list()\n",
    "\n",
    "index_list_floatify2 = [0, 2, 3, 12, 13, 14, 18, 19, 20, 21, 26, 27, 28, 29, 30, 31, 32, 33, 34, 35, 36, 37, 38, 39, 40, 41, 42, 43, 44]\n",
    "for i in range(len(index_list_floatify2)):\n",
    "    ind = index_list_floatify2[i]\n",
    "    col_name = listcol2_[ind]\n",
    "    df2[col_name] = pd.to_numeric(df2[col_name], downcast=\"float\")\n",
    "\n",
    "# Dummify\n",
    "index_list_dummify2 = [6, 7, 16, 22, 23, 24, 25]\n",
    "\n",
    "col_name_dummify2 = []\n",
    "for j in range(len(index_list_dummify2)):\n",
    "    ind = index_list_dummify2[j]\n",
    "    col_name = listcol2_[ind]\n",
    "    col_name_dummify2.append(col_name)\n",
    "    \n",
    "df2 = pd.get_dummies(df2, columns=col_name_dummify2)"
   ]
  },
  {
   "cell_type": "code",
   "execution_count": 84,
   "id": "d3eb0d19",
   "metadata": {},
   "outputs": [],
   "source": [
    "# Drop columns & drop na ————————————————————————————————————\n",
    "df2_drop = df2\n",
    "\n",
    "# name and project id are irrelevant\n",
    "df2_drop = df2_drop.drop(columns = [\"name\",\"project_id\"])\n",
    "\n",
    "# drop spotlight\n",
    "df2_drop = df2_drop.drop(columns = \"spotlight\")\n",
    "# drop pledged, for it can be replaced by usd_pledged\n",
    "df2_drop = df2_drop.drop(columns = \"pledged\")\n",
    "\n",
    "# timestamps is shown in following columns, can be removed\n",
    "# launch_to_state_change_days has to be removed, because it contains too many NA\n",
    "df2_drop = df2_drop.drop(columns = [\"launch_to_state_change_days\",\"deadline\",\"state_changed_at\",\"created_at\",\"launched_at\"])\n",
    "df2_drop = df2_drop.drop(columns = [\"name_len\",\"blurb_len\"])\n",
    "\n",
    "# drop NA rows\n",
    "df2_drop = df2_drop.dropna()\n",
    "\n",
    "# we use df2_drop from now on"
   ]
  },
  {
   "cell_type": "code",
   "execution_count": 85,
   "id": "ff7f5627",
   "metadata": {},
   "outputs": [
    {
     "name": "stdout",
     "output_type": "stream",
     "text": [
      "                  predictor  feature importance\n",
      "5               usd_pledged            0.258350\n",
      "3             backers_count            0.237591\n",
      "0                      goal            0.119599\n",
      "2                staff_pick            0.038128\n",
      "24    create_to_launch_days            0.020435\n",
      "25  launch_to_deadline_days            0.017432\n",
      "6            name_len_clean            0.015654\n",
      "81             category_Web            0.012966\n",
      "17           created_at_day            0.012674\n",
      "19            created_at_hr            0.012423\n"
     ]
    }
   ],
   "source": [
    "# FEATURE SELECTION\n",
    "\n",
    "# in question 2 we can use the features that can be collected after launch\n",
    "# Do another feature selection\n",
    "df2_f = df2_drop\n",
    "X_q2 = df2_f.drop(columns=[\"state\"])\n",
    "y_q2 = df2_f[\"state\"]\n",
    "\n",
    "rf2 = RandomForestClassifier(random_state = 0)\n",
    "model2 = rf.fit(X_q2,y_q2)\n",
    "model2.feature_importances_\n",
    "importance = pd.DataFrame(list(zip(X_q2.columns,model.feature_importances_)),columns=['predictor','feature importance'])\n",
    "print(importance.sort_values(by=['feature importance'],ascending = False).head(10))"
   ]
  },
  {
   "cell_type": "code",
   "execution_count": 89,
   "id": "deb9e934",
   "metadata": {},
   "outputs": [],
   "source": [
    "# PICKING OUT THE SELECTED FEATURES\n",
    "# Still set the importance threshold = 0.05, we thus pick 'usd_pledged', 'backers_count', 'goal'.\n",
    "X_q2_selected = df2_f[['usd_pledged', 'backers_count', 'goal']]\n",
    "\n",
    "# standardization\n",
    "scaler = StandardScaler()\n",
    "X_std_q2 = scaler.fit_transform(X_q2_selected)"
   ]
  },
  {
   "cell_type": "code",
   "execution_count": 90,
   "id": "2fbba2de",
   "metadata": {},
   "outputs": [
    {
     "data": {
      "text/plain": [
       "[<matplotlib.lines.Line2D at 0x2e0d70e2190>]"
      ]
     },
     "execution_count": 90,
     "metadata": {},
     "output_type": "execute_result"
    },
    {
     "data": {
      "image/png": "[encoded data removed]",
      "text/plain": [
       "<Figure size 432x288 with 1 Axes>"
      ]
     },
     "metadata": {
      "needs_background": "light"
     },
     "output_type": "display_data"
    }
   ],
   "source": [
    "# DETERMINING THE BEST NUMBER OF CLUSTERING LAYERS\n",
    "# Elbow\n",
    "withiness = []\n",
    "ran = range(2,10,1)\n",
    "for i in range(2,10):\n",
    "    kmeans = KMeans(n_clusters = i)\n",
    "    model_elbow = kmeans.fit(X_std_q2)\n",
    "    withiness.append(model_elbow.inertia_)\n",
    "    \n",
    "from matplotlib import pyplot\n",
    "pyplot.plot(ran,withiness)"
   ]
  },
  {
   "cell_type": "code",
   "execution_count": 91,
   "id": "2e64ae1d",
   "metadata": {},
   "outputs": [
    {
     "name": "stdout",
     "output_type": "stream",
     "text": [
      "Silhouette result\n",
      "K = 2 : 0.9686575652159152\n",
      "K = 3 : 0.9697758666613713\n",
      "K = 4 : 0.9401040081229042\n",
      "K = 5 : 0.9397815817174344\n",
      "K = 6 : 0.88804002448831\n",
      "K = 7 : 0.8915101592600532\n",
      "K = 8 : 0.8903941511299167\n",
      "K = 9 : 0.867408931868203\n"
     ]
    }
   ],
   "source": [
    "# Silhouette\n",
    "print(\"Silhouette result\")\n",
    "for i in range(2,10):\n",
    "    kmeans = KMeans(n_clusters = i)\n",
    "    model_sil = kmeans.fit(X_std_q2)\n",
    "    labels = model_sil.labels_\n",
    "    print(\"K =\",i,\":\", numpy.average(silhouette_score(X_std_q2, labels)))"
   ]
  },
  {
   "cell_type": "code",
   "execution_count": 93,
   "id": "6bca300c",
   "metadata": {},
   "outputs": [
    {
     "data": {
      "text/html": [
       "<div>\n",
       "<style scoped>\n",
       "    .dataframe tbody tr th:only-of-type {\n",
       "        vertical-align: middle;\n",
       "    }\n",
       "\n",
       "    .dataframe tbody tr th {\n",
       "        vertical-align: top;\n",
       "    }\n",
       "\n",
       "    .dataframe thead th {\n",
       "        text-align: right;\n",
       "    }\n",
       "</style>\n",
       "<table border=\"1\" class=\"dataframe\">\n",
       "  <thead>\n",
       "    <tr style=\"text-align: right;\">\n",
       "      <th></th>\n",
       "      <th>Cluster</th>\n",
       "      <th>Number of observations</th>\n",
       "      <th>usd_pledged_centre</th>\n",
       "      <th>goal_centre</th>\n",
       "      <th>backers_count_centre</th>\n",
       "    </tr>\n",
       "  </thead>\n",
       "  <tbody>\n",
       "    <tr>\n",
       "      <th>0</th>\n",
       "      <td>1</td>\n",
       "      <td>15614</td>\n",
       "      <td>-0.047698</td>\n",
       "      <td>11.298230</td>\n",
       "      <td>-0.184686</td>\n",
       "    </tr>\n",
       "    <tr>\n",
       "      <th>1</th>\n",
       "      <td>2</td>\n",
       "      <td>66</td>\n",
       "      <td>-0.039336</td>\n",
       "      <td>9.317316</td>\n",
       "      <td>-0.150923</td>\n",
       "    </tr>\n",
       "    <tr>\n",
       "      <th>2</th>\n",
       "      <td>3</td>\n",
       "      <td>5</td>\n",
       "      <td>-0.016015</td>\n",
       "      <td>0.070463</td>\n",
       "      <td>49.081106</td>\n",
       "    </tr>\n",
       "  </tbody>\n",
       "</table>\n",
       "</div>"
      ],
      "text/plain": [
       "   Cluster  Number of observations  usd_pledged_centre  goal_centre  \\\n",
       "0        1                   15614           -0.047698    11.298230   \n",
       "1        2                      66           -0.039336     9.317316   \n",
       "2        3                       5           -0.016015     0.070463   \n",
       "\n",
       "   backers_count_centre  \n",
       "0             -0.184686  \n",
       "1             -0.150923  \n",
       "2             49.081106  "
      ]
     },
     "execution_count": 93,
     "metadata": {},
     "output_type": "execute_result"
    }
   ],
   "source": [
    "# As suggested by Elbow and Silhouette methods, cluster number k=3 would be optimal\n",
    "kmeans_q2 = KMeans(n_clusters = 3, random_state = 5)\n",
    "model_q2 = kmeans_q2.fit(X_std_q2)\n",
    "labels_q2 = model_q2.predict(X_std_q2)\n",
    "\n",
    "count = [0, 0, 0]\n",
    "for j in range(len(labels_q2)):\n",
    "    if labels_q2[j] == 0:\n",
    "        count[0] += 1\n",
    "    elif labels_q2[j] == 1:\n",
    "        count[1] += 1\n",
    "    elif labels_q2[j] == 2:\n",
    "        count[2] += 1\n",
    "\n",
    "usd_pledged_centre = []\n",
    "for i in range(3):\n",
    "    usd_pledged_centre.append(model_q2.cluster_centers_[0][i])\n",
    "goal_centre = []\n",
    "for i in range(3):\n",
    "    goal_centre.append(model_q2.cluster_centers_[1][i])\n",
    "backers_count_centre = []\n",
    "for i in range(3):\n",
    "    backers_count_centre.append(model_q2.cluster_centers_[2][i])\n",
    "    \n",
    "cluster_dict = {'Cluster': [1, 2, 3],\n",
    "       'Number of observations': count,\n",
    "       'usd_pledged_centre': usd_pledged_centre,\n",
    "       'goal_centre': goal_centre,\n",
    "       'backers_count_centre': backers_count_centre}\n",
    "\n",
    "cluster_df = pd.DataFrame.from_dict(cluster_dict)\n",
    "#print(cluster_df)\n",
    "\n",
    "cluster_df"
   ]
  },
  {
   "cell_type": "code",
   "execution_count": null,
   "id": "16c9e006",
   "metadata": {},
   "outputs": [],
   "source": []
  }
 ],
 "metadata": {
  "kernelspec": {
   "display_name": "Python 3",
   "language": "python",
   "name": "python3"
  },
  "language_info": {
   "codemirror_mode": {
    "name": "ipython",
    "version": 3
   },
   "file_extension": ".py",
   "mimetype": "text/x-python",
   "name": "python",
   "nbconvert_exporter": "python",
   "pygments_lexer": "ipython3",
   "version": "3.8.8"
  }
 },
 "nbformat": 4,
 "nbformat_minor": 5
}
