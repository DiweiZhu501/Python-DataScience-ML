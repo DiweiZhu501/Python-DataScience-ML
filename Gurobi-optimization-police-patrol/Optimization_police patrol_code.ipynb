{
 "cells": [
  {
   "cell_type": "markdown",
   "metadata": {},
   "source": [
    "# Police Patrolling Route Optimization"
   ]
  },
  {
   "cell_type": "markdown",
   "metadata": {},
   "source": [
    "## Background\n",
    "Aiming to enforce the law and to ensure the safety, police services is an essential part of modern countries. One of the services is police patrolling, providing protection of property and lives as well as prevention and detection of crime. As of Toronto, a city with over 6.3 million population, police patrolling is of critical necessity. \n",
    "However, The breakout of Covid leads to increasing spending on healthcare and decreasing budget on other governmental services, Officials are constantly facing the problem of balancing between fund spending and high quality of services. Therefore, decision making starts to play a more and more significant role for police services. "
   ]
  },
  {
   "cell_type": "markdown",
   "metadata": {},
   "source": [
    "## Problem Description\n",
    "\n",
    "Considering the limitations on budget, patrolling time, and police resources; as well as the needs to reinforce patrolling services in regions with high crime rates, we brought up this question: How should the police offices of Toronto dispatch the police cars, and which patrolling routes should the cars follow? To answer the question, we aim to provide an minimization of  the budget spent on police car patrolling among police office divisions in downtown Toronto via optimizing the patrolling routes.<br><br>\n",
    "We select 8 police divisions from the City of Toronto in the downtown areas. Our patrol route begin with dispatching 3 police cars from Central Field--Division 53 to other divisions. We assume that there is a 1h time limit on police patrol. Since police patrol has a cost of 37.38 dollars per hour, we then need to minimize the budget while subject to time constraint."
   ]
  },
  {
   "cell_type": "markdown",
   "metadata": {},
   "source": [
    "#  Base Model Formulation\n",
    "\n",
    "\n",
    "### Sets and Indices\n",
    "\n",
    "$i,j \\in \\text{Divisions} \\equiv D=\\{0,1..(n-1)\\}$: Set of divisions where $0$ is the index for the Central Field, and $n$ is the number of divisions.\n",
    "\n",
    "$k \\in \\text{Police cars} \\equiv  P=\\{0..K-1\\}$: Index and set of police cars, where $K$ is the number of police cars.\n",
    "\n",
    "$S_k \\in S  $: Tour of police car $k$, i.e. subset of divisions visited by the police car.\n",
    "\n",
    "### Parameters\n",
    "\n",
    "$t_{i,j} \\in \\mathbb{R}^+$: Travel time from division $i$  to division $j$.\n",
    "\n",
    "### Decision Variables\n",
    "\n",
    "$x_{i,j,k} \\in \\{0,1 \\}$: This binary variable is equal 1, if police car $k$ visits and goes directly from division $i$ to division $j$, and zero otherwise.\n",
    "\n",
    "$y_{i,k} \\in \\{0,1 \\}$: This binary variable is equal 1, if police car $k$ visits division $i$, and zero otherwise.\n",
    "\n",
    "$z_{k} \\in \\{0,1 \\}$: This binary variable is equal 1, if police car $k \\in \\{1,2..K\\}$ is used, and zero otherwise.\n",
    "\n",
    "$t_{k} \\in \\mathbb{R}^{+}$: This continuous variable denotes the travel time for police car $k \\in \\{1,2..K\\}$.\n",
    "\n",
    "$s \\in \\mathbb{R}^{+}$: This continuous variable denotes $max(t_{k})\\:\\forall$ police car $k \\in \\{1,2..K\\}$.\n",
    "\n",
    "$st \\in \\mathbb{R}^{+}$: This continuous variable is the sum of travel time for police car $k \\in \\{1,2..K\\}$. We use it to calculate the total patrolling cost.\n",
    "\n",
    "### Objective Functions\n",
    "\n",
    "**First priority:**: Minimize the total travel time, which is the sum of travel time for each police car.\n",
    "\n",
    "\\begin{equation}\n",
    "\\text{Minimize} \\quad \\sum_{k = 1}^{K} t_k\n",
    "\\end{equation}\n",
    "\n",
    "**Second priority:**: Minimize the maximum travel time, which is the time for all police cars to complete patrol.\n",
    "\n",
    "\\begin{equation}\n",
    "\\text{Minimize} \\quad max(t_{k})\n",
    "\\end{equation}\n",
    "\n",
    "**Third priority:**: Minimize the number of police cars used.\n",
    "\n",
    "\\begin{equation}\n",
    "\\text{Minimize} \\quad \\sum_{k = 1}^{K} z_k\n",
    "\\end{equation}\n",
    "\n",
    "### Constraints\n",
    "\n",
    "**Police car utilization**: For all divisions different from the Central Field, i.e. $i > 0$, if the division is visited by a police car $k$, then it is used.\n",
    "\n",
    "\\begin{equation}\n",
    "y_{i,k} \\leq z_{k} \\quad \\forall i \\in D ,\\:i>0, \\; k \\in P\n",
    "\\end{equation}\n",
    "\n",
    "**Travel time**: No police car travels for more than 60 min. Note that we do not consider the travel time to return to Central Field.\n",
    "\n",
    "\\begin{equation}\n",
    "\\sum_{i \\in D} \\sum_{j \\in D ,j>0} t_{i,j} \\cdot x_{i,j,k} \\leq 120 \\quad \\forall k \\in  P\n",
    "\\end{equation}\n",
    "\n",
    "**Visit all divisions**:  Each division is visited by exactly one police car.\n",
    "\n",
    "\\begin{equation}\n",
    "\\sum_{k \\in P}  y_{i,k} = 1 \\quad \\forall i \\in D ,\\:i>0\n",
    "\\end{equation}\n",
    "\n",
    "**Starting point**: Central Field is visited by every police car used. \n",
    "\n",
    "\\begin{equation}\n",
    "\\sum_{k \\in P}  y_{1,k} \\geq \\sum_{k \\in P} z_k\n",
    "\\end{equation}\n",
    "\n",
    "**Arriving at a division**: If division $j$ is visited by police car $k$, then the police car is coming from another division $i$.\n",
    "\n",
    "\\begin{equation}\n",
    "\\sum_{i \\in D}  x_{i,j,k} =  y_{j,k}  \\quad \\forall j \\in D, \\; k \\in P\n",
    "\\end{equation}\n",
    "\n",
    "**Leaving a division**: If a police car $k$ leaves division $j$, then the police car is going to another division $i$.\n",
    "\n",
    "\\begin{equation}\n",
    "\\sum_{i \\in D}  x_{j,i,k} = y_{j,k}  \\quad \\forall j \\in D, \\; k \\in P\n",
    "\\end{equation}\n",
    "\n",
    "**Breaking symmetry**: all routes that visit the same divisions are only considered as one route\n",
    "\n",
    "\\begin{equation}\n",
    "\\sum_{i \\in D}  y_{i,k} \\geq \\sum_{i \\in D}  y_{i,k+1} \\quad \\forall k \\in  \\{0..K-1\\}\n",
    "\\end{equation}\n",
    "\n",
    "**Subtour elimination**: These constraints ensure that for each police car route, there is no cycle. \n",
    "\n",
    "\\begin{equation}\n",
    "\\sum_{(i,j) \\in S_k}x_{i,j,k} \\leq |S_k|-1 \\quad \\forall  k \\in K, \\;   S_k \\subseteq D\n",
    "\\end{equation}\n",
    "\n"
   ]
  },
  {
   "cell_type": "markdown",
   "metadata": {},
   "source": [
    "## Python Implementation"
   ]
  },
  {
   "cell_type": "code",
   "execution_count": 1,
   "metadata": {},
   "outputs": [],
   "source": [
    "import sys\n",
    "import math\n",
    "import gurobipy as gp\n",
    "from gurobipy import GRB\n",
    "import pandas as pd\n",
    "from itertools import permutations"
   ]
  },
  {
   "cell_type": "markdown",
   "metadata": {},
   "source": [
    "## Input data  "
   ]
  },
  {
   "cell_type": "code",
   "execution_count": 2,
   "metadata": {},
   "outputs": [],
   "source": [
    "#import dataset for travel time between each division\n",
    "df = pd.read_excel('police travel time.xlsx')\n",
    "df = df.iloc[1:12,2:13]\n",
    "df_array = df.to_numpy()\n",
    "\n",
    "# number of divisions, including Central Field. The index of Central Field is 0\n",
    "n = 8\n",
    "divisions = [*range(n)]\n",
    "\n",
    "# number of police cars\n",
    "K = 3\n",
    "cars = [*range(K)]\n",
    "\n",
    "# travel time between each division\n",
    "time = {(i, j):df_array[i,j] for i in range(n) for j in range(n) if i != j}\n",
    "\n",
    "#cost per minute for the patrol\n",
    "cost = 37.38/60 "
   ]
  },
  {
   "cell_type": "markdown",
   "metadata": {},
   "source": [
    "## Model Deployment\n",
    "\n",
    "We create our base model and the variables. The decision variables determines the order in which each police car visits a subset of divisions, which division is visited by each police car, and if a police car is used or not."
   ]
  },
  {
   "cell_type": "code",
   "execution_count": 3,
   "metadata": {},
   "outputs": [
    {
     "name": "stdout",
     "output_type": "stream",
     "text": [
      "Academic license - for non-commercial use only - expires 2022-09-25\n",
      "Using license file C:\\Users\\DELL\\gurobi.lic\n"
     ]
    }
   ],
   "source": [
    "m = gp.Model('toronto_police_patrol.lp')\n",
    "\n",
    "# Create variables: \n",
    "\n",
    "# x = 1, if police car k visits and goes directly from division i to division j \n",
    "x = m.addVars(time.keys(), cars, vtype=GRB.BINARY, name='FromToBy')\n",
    "\n",
    "# y = 1, if division i is visited by police car k\n",
    "y = m.addVars(divisions, cars, vtype=GRB.BINARY, name='visitBy')\n",
    "\n",
    "# Number of police cars used is a decision variable\n",
    "z = m.addVars(cars, vtype=GRB.BINARY, name='used')\n",
    "\n",
    "# Travel time per police car\n",
    "t = m.addVars(cars, ub=60, name='travelTime')\n",
    "\n",
    "# Maximum travel time\n",
    "s = m.addVar(name='maxTravelTime')\n",
    "\n",
    "# Total travel time\n",
    "st = m.addVar(name='TotalTravelTime')"
   ]
  },
  {
   "cell_type": "markdown",
   "metadata": {},
   "source": [
    "## Constraints\n",
    "\n",
    "For all locations different from Central Field, i.e. $i > 0$, if the division is visited by police car $k$, then it is used."
   ]
  },
  {
   "cell_type": "code",
   "execution_count": 4,
   "metadata": {},
   "outputs": [],
   "source": [
    "# Police car utilization constraint\n",
    "\n",
    "visitDivision = m.addConstrs((y[i,k] <= z[k]  for k in cars for i in divisions if i > 0), name='visitDivision' )"
   ]
  },
  {
   "cell_type": "markdown",
   "metadata": {},
   "source": [
    "No police car travels for more than 60 min. "
   ]
  },
  {
   "cell_type": "code",
   "execution_count": 5,
   "metadata": {},
   "outputs": [],
   "source": [
    "# Travel time constraint\n",
    "# Exclude the time to return to Central Field\n",
    "\n",
    "travelTime = m.addConstrs((gp.quicksum(time[i,j]*x[i,j,k] for i,j in time.keys() if j > 0) == t[k] for k in cars), \n",
    "                          name='travelTimeConstr' )"
   ]
  },
  {
   "cell_type": "markdown",
   "metadata": {},
   "source": [
    "Each division is visited by exactly one police car."
   ]
  },
  {
   "cell_type": "code",
   "execution_count": 6,
   "metadata": {},
   "outputs": [],
   "source": [
    "# Visit all divisions\n",
    "\n",
    "visitAll = m.addConstrs((y.sum(i,'*') == 1 for i in divisions if i>0), name='visitAll' )"
   ]
  },
  {
   "cell_type": "markdown",
   "metadata": {},
   "source": [
    "Division 12, 14, 51 should be patrolled twice, but with different police cars."
   ]
  },
  {
   "cell_type": "markdown",
   "metadata": {},
   "source": [
    "Central Field is visited by every police car used."
   ]
  },
  {
   "cell_type": "code",
   "execution_count": 7,
   "metadata": {},
   "outputs": [],
   "source": [
    "# Central Field constraint\n",
    "\n",
    "centralField = m.addConstr(y.sum(0,'*') >= z.sum(), name='centralField' )"
   ]
  },
  {
   "cell_type": "markdown",
   "metadata": {},
   "source": [
    "If division  j  is visited by police car  k , then the police car is coming from another division  i."
   ]
  },
  {
   "cell_type": "code",
   "execution_count": 8,
   "metadata": {},
   "outputs": [],
   "source": [
    "# Arriving at a division constraint\n",
    "\n",
    "ArriveConstr = m.addConstrs((x.sum('*',j,k) == y[j,k] for j,k in y.keys()), name='ArriveConstr' )"
   ]
  },
  {
   "cell_type": "markdown",
   "metadata": {},
   "source": [
    " If police car  k  leaves division  j , then the police car is going to another division  i."
   ]
  },
  {
   "cell_type": "code",
   "execution_count": 9,
   "metadata": {},
   "outputs": [],
   "source": [
    "# Leaving a division constraint\n",
    "\n",
    "LeaveConstr = m.addConstrs((x.sum(j,'*',k) == y[j,k] for j,k in y.keys()), name='LeaveConstr' )"
   ]
  },
  {
   "cell_type": "markdown",
   "metadata": {},
   "source": [
    "Breaking symmetry constraints."
   ]
  },
  {
   "cell_type": "code",
   "execution_count": 10,
   "metadata": {},
   "outputs": [],
   "source": [
    "breakSymm = m.addConstrs((y.sum('*',k-1) >= y.sum('*',k) for k in cars if k>0), name='breakSymm' )"
   ]
  },
  {
   "cell_type": "markdown",
   "metadata": {},
   "source": [
    "Relate the maximum travel time to the travel times of each police car"
   ]
  },
  {
   "cell_type": "code",
   "execution_count": 11,
   "metadata": {},
   "outputs": [],
   "source": [
    "maxTravelTime = m.addConstrs((t[k] <= s for k in cars), name='maxTravelTimeConstr')"
   ]
  },
  {
   "cell_type": "markdown",
   "metadata": {},
   "source": [
    "Relate the Total travel time to the travel times of each police car"
   ]
  },
  {
   "cell_type": "code",
   "execution_count": 12,
   "metadata": {},
   "outputs": [],
   "source": [
    "maxTravelTime = m.addConstr((t.sum('*') == st), name='TotalTravelTimeConstr')"
   ]
  },
  {
   "cell_type": "markdown",
   "metadata": {},
   "source": [
    "### Objective Function"
   ]
  },
  {
   "cell_type": "code",
   "execution_count": 13,
   "metadata": {},
   "outputs": [],
   "source": [
    "m.ModelSense = GRB.MINIMIZE\n",
    "\n",
    "# First priority: Minimize the total travel time\n",
    "m.setObjectiveN(st, 2, priority=0, name=\"Total Travel time\")\n",
    "\n",
    "# Second priority: Minimize the maximum travel time\n",
    "m.setObjectiveN(s, 1, priority=1, name=\"Maximum Travel time\")\n",
    "\n",
    "# Third priority: Minimize the number of police cars used\n",
    "m.setObjectiveN(z.sum(), 0, priority=2, name=\"Number of cars\")"
   ]
  },
  {
   "cell_type": "markdown",
   "metadata": {},
   "source": [
    "### Callback Definition\n",
    "Subtour constraints prevent a police car from visiting a set of destinations without starting or ending at Central Field. Because there are an exponential number of these constraints, we don't want to add them all to the model. Instead, we use a callback function to find violated subtour constraints and add them to the model as lazy constraints."
   ]
  },
  {
   "cell_type": "code",
   "execution_count": 14,
   "metadata": {},
   "outputs": [],
   "source": [
    "# Callback - use lazy constraints to eliminate sub-tours\n",
    "def subtourelim(model, where):\n",
    "    if where == GRB.Callback.MIPSOL:\n",
    "        # make a list of edges selected in the solution\n",
    "        vals = model.cbGetSolution(model._x)\n",
    "        selected = gp.tuplelist((i,j) for i, j, k in model._x.keys()\n",
    "                                if vals[i, j, k] > 0.5)\n",
    "        # find the shortest cycle in the selected edge list\n",
    "        tour = subtour(selected)\n",
    "        if len(tour) < n: \n",
    "            for k in cars:\n",
    "                model.cbLazy(gp.quicksum(model._x[i, j, k]\n",
    "                                         for i, j in permutations(tour, 2))\n",
    "                             <= len(tour)-1)\n",
    "\n",
    "\n",
    "# Given a tuplelist of edges, find the shortest subtour not containing Central Field (0)\n",
    "def subtour(edges):\n",
    "    unvisited = list(range(1, n))\n",
    "    cycle = range(n+1)  # initial length has 1 more division\n",
    "    while unvisited:\n",
    "        thiscycle = []\n",
    "        neighbors = unvisited\n",
    "        while neighbors:\n",
    "            current = neighbors[0]\n",
    "            thiscycle.append(current)\n",
    "            if current != 0:\n",
    "                unvisited.remove(current)\n",
    "            neighbors = [j for i, j in edges.select(current, '*')\n",
    "                         if j == 0 or j in unvisited]\n",
    "        if 0 not in thiscycle and len(cycle) > len(thiscycle):\n",
    "            cycle = thiscycle\n",
    "    return cycle"
   ]
  },
  {
   "cell_type": "markdown",
   "metadata": {},
   "source": [
    "## Solve the model"
   ]
  },
  {
   "cell_type": "code",
   "execution_count": 15,
   "metadata": {
    "scrolled": false
   },
   "outputs": [],
   "source": [
    "# Run optimization engine\n",
    "m.Params.LogToConsole=0\n",
    "m._x = x\n",
    "m.Params.LazyConstraints = 1\n",
    "m.optimize(subtourelim)"
   ]
  },
  {
   "cell_type": "markdown",
   "metadata": {},
   "source": [
    "## Analysis\n",
    "\n",
    "The optimal route of each police car used and the total patrol time report follows."
   ]
  },
  {
   "cell_type": "code",
   "execution_count": 16,
   "metadata": {
    "scrolled": false
   },
   "outputs": [
    {
     "name": "stdout",
     "output_type": "stream",
     "text": [
      "Police Division index:\n",
      "1: Central Field, 75 Eglinton Av. W.\n",
      "2: 11 Division, 2054 Davenport Rd.\n",
      "3: 12 Division, 200 Trethewey Dr.\n",
      "4: 13 Division, 1435 Eglinton Av. W.\n",
      "5: 14 Division, 350 Dovercourt Rd. \n",
      "6: 51 Division, 51 Parliament St.\n",
      "7: 52 Division, 255 Dundas St. W.\n",
      "8: 55 Division, 101 Coxwell Av.\n",
      " \n",
      "Optimization Results:\n",
      "Route for police car 1: 1 -> 4 -> 3 -> 2 -> 5 -> 1. \n",
      "Travel time: 52.0 min\n",
      "Route for police car 2: 1 -> 7 -> 6 -> 8 -> 1. \n",
      "Travel time: 41.0 min\n",
      "Total travel cost: $ 57.939\n",
      "Max travel time: 52.0 min\n"
     ]
    }
   ],
   "source": [
    "print('Police Division index:')\n",
    "print('1: Central Field, 75 Eglinton Av. W.\\n2: 11 Division, 2054 Davenport Rd.\\n3: 12 Division, 200 Trethewey Dr.')\n",
    "print('4: 13 Division, 1435 Eglinton Av. W.\\n5: 14 Division, 350 Dovercourt Rd. \\n6: 51 Division, 51 Parliament St.')\n",
    "print('7: 52 Division, 255 Dundas St. W.\\n8: 55 Division, 101 Coxwell Av.')\n",
    "print(' ')\n",
    "print('Optimization Results:')\n",
    "\n",
    "for k in cars:\n",
    "    route = gp.tuplelist((i,j) for i,j in time.keys() if x[i,j,k].X > 0.5)\n",
    "    if route:\n",
    "        i = 0\n",
    "        print(f\"Route for police car {k+1}: {i+1}\", end='')\n",
    "        while True:\n",
    "            i = route.select(i, '*')[0][1]\n",
    "            if i == 8:\n",
    "                print(f\" -> {2+1}\", end='')\n",
    "            elif i == 9:\n",
    "                print(f\" -> {4+1}\", end='')\n",
    "            elif i == 10:\n",
    "                print(f\" -> {5+1}\", end='')\n",
    "            else:\n",
    "                print(f\" -> {i+1}\", end='')\n",
    "            if i == 0:\n",
    "                break\n",
    "        print(f\". \\nTravel time: {round(t[k].X,2)} min\")\n",
    "\n",
    "print(f\"Total travel cost: $ {round(st.X,2)*cost}\")     \n",
    "print(f\"Max travel time: {round(s.X,2)}\"+' min')"
   ]
  },
  {
   "cell_type": "markdown",
   "metadata": {},
   "source": [
    "# Problem Extension\n",
    "Thinking beyond our base model: we must now consider that in cities, certain parts are “safer” than others, and Toronto is no exception. Therefore, it would be logical to increase police car patrols in those areas where more crime is occuring. Using Toronto Homicides dataset from 2004 to 2021, we notice 3 divisions with higher homicide rates: D12, D14, D51. Hence, we set up a new problem where we now visit the high concentration crime areas twice."
   ]
  },
  {
   "cell_type": "markdown",
   "metadata": {},
   "source": [
    "### New Set and Indices\n",
    "\n",
    "$v \\in \\left \\{\\text{Division 12, Division 14, Division 51}\\right \\} \\subseteq D= \\{2,4,5\\}$: Set of divisions that need to patrolled twice, <br>$2$ are the indexes for Division 12, $4$ are the indexes for Division 14, and $5$ are the indexes for Division 51.<br><br>\n",
    "$w \\in \\left \\{\\text{Division 12, Division 14, Division 51}\\right \\} \\equiv ExtraD=\\{8,9,10\\}$: Set of divisions that need to patrolled twice,<br>$8$ are the indexes for Division 12, $9$ are the indexes for Division 14, and $10$ are the indexes for Division 51.<br><br>\n",
    "$d \\in D$: a general denotion of all divisions.\n",
    "\n",
    "### New Constraints\n",
    "\n",
    "**Forward-Backward Prevention**: prevent police car from first patrol a high crime rate area, then patrol another area, then goes back to the same high crime rate area.\n",
    "\n",
    "$ \\forall\\:d\\in D, d \\notin \\{v,w\\}, d>0, k\\in K$:\n",
    "\\begin{equation}\n",
    "x_{v,d,k}+x_{d,w,k}\\leq1,\\: v=2, w=8\n",
    "\\end{equation}\n",
    "\\begin{equation}\n",
    "x_{v,d,k}+x_{d,w,k}\\leq1,\\: v=4, w=9\n",
    "\\end{equation}\n",
    "\\begin{equation}\n",
    "x_{v,d,k}+x_{d,w,k}\\leq1,\\: v=5, w=10\n",
    "\\end{equation}\n",
    "\\begin{equation}\n",
    "x_{w,d,k}+x_{d,v,k}\\leq1,\\: v=2, w=8\n",
    "\\end{equation}\n",
    "\\begin{equation}\n",
    "x_{w,d,k}+x_{d,v,k}\\leq1,\\: v=4, w=9\n",
    "\\end{equation}\n",
    "\\begin{equation}\n",
    "x_{w,d,k}+x_{d,v,k}\\leq1,\\: v=5, w=10\n",
    "\\end{equation}"
   ]
  },
  {
   "cell_type": "markdown",
   "metadata": {},
   "source": [
    "## Input Data"
   ]
  },
  {
   "cell_type": "code",
   "execution_count": 17,
   "metadata": {},
   "outputs": [],
   "source": [
    "#import dataset for travel time between each division\n",
    "df = pd.read_excel('police travel time - extension.xlsx')\n",
    "df = df.iloc[1:12,2:13]\n",
    "df_array = df.to_numpy()\n",
    "\n",
    "# number of divisions, including Central Field. The index of Central Field is 0\n",
    "n=11\n",
    "divisions = [*range(n)]\n",
    "\n",
    "# number of police cars\n",
    "K = 3\n",
    "cars = [*range(K)]\n",
    "\n",
    "# travel time between each division\n",
    "time = {(i, j):df_array[i,j] for i in range(n) for j in range(n) if i != j}\n",
    "\n",
    "#cost per minute for the patrol\n",
    "cost = 37.38/60 \n",
    "\n",
    "# D12,14,51 is high crime rate area, requires 2 patrols (2,4,5)"
   ]
  },
  {
   "cell_type": "markdown",
   "metadata": {},
   "source": [
    "## Model Deployment"
   ]
  },
  {
   "cell_type": "code",
   "execution_count": 18,
   "metadata": {},
   "outputs": [],
   "source": [
    "m = gp.Model('toronto_police_patrol.lp')\n",
    "\n",
    "# Create variables: \n",
    "\n",
    "# x = 1, if police car k visits and goes directly from division i to division j \n",
    "x = m.addVars(time.keys(), cars, vtype=GRB.BINARY, name='FromToBy')\n",
    "\n",
    "# y = 1, if division i is visited by police car k\n",
    "y = m.addVars(divisions, cars, vtype=GRB.BINARY, name='visitBy')\n",
    "\n",
    "# Number of police cars used is a decision variable\n",
    "z = m.addVars(cars, vtype=GRB.BINARY, name='used')\n",
    "\n",
    "# Travel time per police car\n",
    "t = m.addVars(cars, ub=60, name='travelTime')\n",
    "\n",
    "# Maximum travel time\n",
    "s = m.addVar(name='maxTravelTime')\n",
    "\n",
    "# Total travel time\n",
    "st = m.addVar(name='TotalTravelTime')"
   ]
  },
  {
   "cell_type": "markdown",
   "metadata": {},
   "source": [
    "## Constraints\n",
    "\n",
    "For all locations different from Central Field, i.e. $i > 0$, if the division is visited by police car $k$, then it is used."
   ]
  },
  {
   "cell_type": "code",
   "execution_count": 19,
   "metadata": {},
   "outputs": [],
   "source": [
    "# Police car utilization constraint\n",
    "\n",
    "visitDivision = m.addConstrs((y[i,k] <= z[k]  for k in cars for i in divisions if i > 0), name='visitDivision' )"
   ]
  },
  {
   "cell_type": "markdown",
   "metadata": {},
   "source": [
    "No police car travels for more than 60 min."
   ]
  },
  {
   "cell_type": "code",
   "execution_count": 20,
   "metadata": {},
   "outputs": [],
   "source": [
    "# Travel time constraint\n",
    "# Exclude the time to return to Central Field\n",
    "\n",
    "travelTime = m.addConstrs((gp.quicksum(time[i,j]*x[i,j,k] for i,j in time.keys() if j > 0) == t[k] for k in cars), \n",
    "                          name='travelTimeConstr' )"
   ]
  },
  {
   "cell_type": "markdown",
   "metadata": {},
   "source": [
    "Each division is visited by exactly one police car."
   ]
  },
  {
   "cell_type": "code",
   "execution_count": 21,
   "metadata": {},
   "outputs": [],
   "source": [
    "# Visit all divisions\n",
    "\n",
    "visitAll = m.addConstrs((y.sum(i,'*') == 1 for i in divisions if i>0), name='visitAll' )"
   ]
  },
  {
   "cell_type": "markdown",
   "metadata": {},
   "source": [
    "Division 12, 14, 51 should be patrolled twice, but with different police cars."
   ]
  },
  {
   "cell_type": "code",
   "execution_count": 22,
   "metadata": {},
   "outputs": [],
   "source": [
    "#prevent going forward and going back for division 12, 14, 51\n",
    "\n",
    "different_visit1 = m.addConstrs((x[2,d,k]+x[d,8,k]<=1 for d in divisions for k in cars if (d !=8)&(d!=2)&(d>0)),name='different_visit')\n",
    "different_visit2 = m.addConstrs((x[8,d,k]+x[d,2,k]<=1 for d in divisions for k in cars if (d !=8)&(d!=2)&(d>0)),name='different_visit1')\n",
    "different_visit3 = m.addConstrs((x[4,d,k]+x[d,9,k]<=1 for d in divisions for k in cars if (d !=4)&(d!=9)&(d>0)),name='different_visit2')\n",
    "different_visit4 = m.addConstrs((x[9,d,k]+x[d,4,k]<=1 for d in divisions for k in cars if (d !=4)&(d!=9)&(d>0)),name='different_visit3')\n",
    "different_visit5 = m.addConstrs((x[5,d,k]+x[d,10,k]<=1 for d in divisions for k in cars if (d !=5)&(d!=10)&(d>0)),name='different_visit4')\n",
    "different_visit6 = m.addConstrs((x[10,d,k]+x[d,5,k]<=1 for d in divisions for k in cars if (d !=5)&(d!=10)&(d>0)),name='different_visit5')"
   ]
  },
  {
   "cell_type": "markdown",
   "metadata": {},
   "source": [
    "Central Field is visited by every police car used."
   ]
  },
  {
   "cell_type": "code",
   "execution_count": 23,
   "metadata": {},
   "outputs": [],
   "source": [
    "# Central Field constraint\n",
    "\n",
    "centralField = m.addConstr(y.sum(0,'*') >= z.sum(), name='centralField' )"
   ]
  },
  {
   "cell_type": "markdown",
   "metadata": {},
   "source": [
    "If division  j  is visited by police car  k , then the police car is coming from another division  i."
   ]
  },
  {
   "cell_type": "code",
   "execution_count": 24,
   "metadata": {},
   "outputs": [],
   "source": [
    "# Arriving at a division constraint\n",
    "\n",
    "ArriveConstr = m.addConstrs((x.sum('*',j,k) == y[j,k] for j,k in y.keys()), name='ArriveConstr' )"
   ]
  },
  {
   "cell_type": "markdown",
   "metadata": {},
   "source": [
    " If police car  k  leaves division  j , then the police car is going to another division  i."
   ]
  },
  {
   "cell_type": "code",
   "execution_count": 25,
   "metadata": {},
   "outputs": [],
   "source": [
    "# Leaving a division constraint\n",
    "\n",
    "LeaveConstr = m.addConstrs((x.sum(j,'*',k) == y[j,k] for j,k in y.keys()), name='LeaveConstr' )"
   ]
  },
  {
   "cell_type": "markdown",
   "metadata": {},
   "source": [
    "Breaking symmetry constraints."
   ]
  },
  {
   "cell_type": "code",
   "execution_count": 26,
   "metadata": {},
   "outputs": [],
   "source": [
    "breakSymm = m.addConstrs((y.sum('*',k-1) >= y.sum('*',k) for k in cars if k>0), name='breakSymm' )"
   ]
  },
  {
   "cell_type": "markdown",
   "metadata": {},
   "source": [
    "Relate the maximum travel time to the travel times of each police car"
   ]
  },
  {
   "cell_type": "code",
   "execution_count": 27,
   "metadata": {},
   "outputs": [],
   "source": [
    "maxTravelTime = m.addConstrs((t[k] <= s for k in cars), name='maxTravelTimeConstr')"
   ]
  },
  {
   "cell_type": "markdown",
   "metadata": {},
   "source": [
    "Relate the Total travel time to the travel times of each police car"
   ]
  },
  {
   "cell_type": "code",
   "execution_count": 28,
   "metadata": {},
   "outputs": [],
   "source": [
    "maxTravelTime = m.addConstr((t.sum('*') == st), name='TotalTravelTimeConstr')"
   ]
  },
  {
   "cell_type": "markdown",
   "metadata": {},
   "source": [
    "### Objective Function"
   ]
  },
  {
   "cell_type": "code",
   "execution_count": 29,
   "metadata": {},
   "outputs": [],
   "source": [
    "m.ModelSense = GRB.MINIMIZE\n",
    "\n",
    "# First priority: Minimize the total travel time\n",
    "m.setObjectiveN(st, 2, priority=0, name=\"Total Travel time\")\n",
    "\n",
    "# Second priority: Minimize the maximum travel time\n",
    "m.setObjectiveN(s, 1, priority=1, name=\"Maximum Travel time\")\n",
    "\n",
    "# Third priority: Minimize the number of police cars used\n",
    "m.setObjectiveN(z.sum(), 0, priority=2, name=\"Number of cars\")"
   ]
  },
  {
   "cell_type": "markdown",
   "metadata": {},
   "source": [
    "### Callback Definition\n",
    "Subtour constraints prevent a police car from visiting a set of destinations without starting or ending at Central Field. Because there are an exponential number of these constraints, we don't want to add them all to the model. Instead, we use a callback function to find violated subtour constraints and add them to the model as lazy constraints."
   ]
  },
  {
   "cell_type": "code",
   "execution_count": 30,
   "metadata": {},
   "outputs": [],
   "source": [
    "# Callback - use lazy constraints to eliminate sub-tours\n",
    "def subtourelim(model, where):\n",
    "    if where == GRB.Callback.MIPSOL:\n",
    "        # make a list of edges selected in the solution\n",
    "        vals = model.cbGetSolution(model._x)\n",
    "        selected = gp.tuplelist((i,j) for i, j, k in model._x.keys()\n",
    "                                if vals[i, j, k] > 0.5)\n",
    "        # find the shortest cycle in the selected edge list\n",
    "        tour = subtour(selected)\n",
    "        if len(tour) < n: \n",
    "            for k in cars:\n",
    "                model.cbLazy(gp.quicksum(model._x[i, j, k]\n",
    "                                         for i, j in permutations(tour, 2))\n",
    "                             <= len(tour)-1)\n",
    "\n",
    "\n",
    "# Given a tuplelist of edges, find the shortest subtour not containing Central Field (0)\n",
    "def subtour(edges):\n",
    "    unvisited = list(range(1, n))\n",
    "    cycle = range(n+1)  # initial length has 1 more division\n",
    "    while unvisited:\n",
    "        thiscycle = []\n",
    "        neighbors = unvisited\n",
    "        while neighbors:\n",
    "            current = neighbors[0]\n",
    "            thiscycle.append(current)\n",
    "            if current != 0:\n",
    "                unvisited.remove(current)\n",
    "            neighbors = [j for i, j in edges.select(current, '*')\n",
    "                         if j == 0 or j in unvisited]\n",
    "        if 0 not in thiscycle and len(cycle) > len(thiscycle):\n",
    "            cycle = thiscycle\n",
    "    return cycle"
   ]
  },
  {
   "cell_type": "markdown",
   "metadata": {},
   "source": [
    "## Solve the model"
   ]
  },
  {
   "cell_type": "code",
   "execution_count": 31,
   "metadata": {},
   "outputs": [],
   "source": [
    "# Run optimization engine\n",
    "m.Params.LogToConsole=0\n",
    "m._x = x\n",
    "m.Params.LazyConstraints = 1\n",
    "m.optimize(subtourelim)"
   ]
  },
  {
   "cell_type": "markdown",
   "metadata": {},
   "source": [
    "## Analysis\n",
    "\n",
    "The optimal route of each police car used and the total patrol time report follows."
   ]
  },
  {
   "cell_type": "code",
   "execution_count": 32,
   "metadata": {},
   "outputs": [
    {
     "name": "stdout",
     "output_type": "stream",
     "text": [
      "Police Division index:\n",
      "1: Central Field, 75 Eglinton Av. W.\n",
      "2: 11 Division, 2054 Davenport Rd.\n",
      "3: 12 Division, 200 Trethewey Dr.\n",
      "4: 13 Division, 1435 Eglinton Av. W.\n",
      "5: 14 Division, 350 Dovercourt Rd. \n",
      "6: 51 Division, 51 Parliament St.\n",
      "7: 52 Division, 255 Dundas St. W.\n",
      "8: 55 Division, 101 Coxwell Av.\n",
      " \n",
      "Optimization Results:\n",
      "Route for police car 1: 1 -> 6 -> 8 -> 7 -> 6 -> 1. \n",
      "Travel time: 57.0 min\n",
      "Route for police car 2: 1 -> 4 -> 3 -> 5 -> 1. \n",
      "Travel time: 51.0 min\n",
      "Route for police car 3: 1 -> 3 -> 2 -> 5 -> 1. \n",
      "Travel time: 49.0 min\n",
      "Total travel cost: $ 97.81099999999999\n",
      "Max travel time: 57.0 min\n"
     ]
    }
   ],
   "source": [
    "print('Police Division index:')\n",
    "print('1: Central Field, 75 Eglinton Av. W.\\n2: 11 Division, 2054 Davenport Rd.\\n3: 12 Division, 200 Trethewey Dr.')\n",
    "print('4: 13 Division, 1435 Eglinton Av. W.\\n5: 14 Division, 350 Dovercourt Rd. \\n6: 51 Division, 51 Parliament St.')\n",
    "print('7: 52 Division, 255 Dundas St. W.\\n8: 55 Division, 101 Coxwell Av.')\n",
    "print(' ')\n",
    "print('Optimization Results:')\n",
    "\n",
    "for k in cars:\n",
    "    route = gp.tuplelist((i,j) for i,j in time.keys() if x[i,j,k].X > 0.5)\n",
    "    if route:\n",
    "        i = 0\n",
    "        print(f\"Route for police car {k+1}: {i+1}\", end='')\n",
    "        while True:\n",
    "            i = route.select(i, '*')[0][1]\n",
    "            if i == 8:\n",
    "                print(f\" -> {2+1}\", end='')\n",
    "            elif i == 9:\n",
    "                print(f\" -> {4+1}\", end='')\n",
    "            elif i == 10:\n",
    "                print(f\" -> {5+1}\", end='')\n",
    "            else:\n",
    "                print(f\" -> {i+1}\", end='')\n",
    "            if i == 0:\n",
    "                break\n",
    "        print(f\". \\nTravel time: {round(t[k].X,2)} min\")\n",
    "\n",
    "print(f\"Total travel cost: $ {round(st.X,2)*cost}\")     \n",
    "print(f\"Max travel time: {round(s.X,2)}\"+' min')"
   ]
  }
 ],
 "metadata": {
  "kernelspec": {
   "display_name": "Python 3",
   "language": "python",
   "name": "python3"
  },
  "language_info": {
   "codemirror_mode": {
    "name": "ipython",
    "version": 3
   },
   "file_extension": ".py",
   "mimetype": "text/x-python",
   "name": "python",
   "nbconvert_exporter": "python",
   "pygments_lexer": "ipython3",
   "version": "3.8.8"
  }
 },
 "nbformat": 4,
 "nbformat_minor": 2
}
